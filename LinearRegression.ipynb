{
 "cells": [
  {
   "cell_type": "code",
   "execution_count": null,
   "metadata": {},
   "outputs": [],
   "source": [
    "from sklearn import datasets\n",
    "import pandas as pd\n",
    "boston_data = datasets.fetch_california_housing()\n",
    "df_boston = pd.DataFrame(boston_data.data,columns=boston_data.feature_names)\n",
    "df_boston['target'] = pd.Series(boston_data.target)\n",
    "df_boston.head()\n",
    "\n",
    "x1 = df_boston.iloc[0:50, 0]\n",
    "x2 = df_boston.iloc[0:50, 0]\n",
    "y = df_boston.iloc[0:50, 8]\n",
    "\n",
    "\n"
   ]
  },
  {
   "cell_type": "code",
   "execution_count": null,
   "metadata": {},
   "outputs": [],
   "source": [
    "teta_0 = teta_1 = teta_2 = 0\n",
    "D_t_0 = D_t_1 = D_t_2 = 0\n",
    "averageRealTarget = 0\n",
    "\n",
    "E = 0\n",
    "n = len(y)\n",
    "L = 0.01\n",
    "SSR = SST = 0"
   ]
  },
  {
   "cell_type": "code",
   "execution_count": null,
   "metadata": {},
   "outputs": [],
   "source": [
    "\n",
    "for i in range(6000):\n",
    "    for j in range(n):\n",
    "        Dm = Dm + (x[j] * (y[j] - (m * x[j] + c)));\n",
    "        Dc = Dc + (y[j] - (m * x[j] + c));\n",
    "    \n",
    "    D_t_0 = -(1/n) * D_t_0\n",
    "    D_t_1 = -(1/n) * D_t_1\n",
    "    D_t_2 = -(1/n) * D_t_2\n",
    "    \n",
    "    teta_0 -=   L * D_t_0\n",
    "    teta_1 -=   L * D_t_1\n",
    "    teta_2 -=   L * D_t_2\n",
    "    "
   ]
  },
  {
   "cell_type": "code",
   "execution_count": null,
   "metadata": {},
   "outputs": [],
   "source": [
    "\n",
    "\n",
    "print(\n",
    "\" Teta_0: \" + str(teta_0) + \n",
    "\" Teta_1: \" + str(teta_1) +\n",
    "\" Teta_2\" + str(teta_2))"
   ]
  }
 ],
 "metadata": {
  "language_info": {
   "name": "python"
  },
  "orig_nbformat": 4
 },
 "nbformat": 4,
 "nbformat_minor": 2
}
